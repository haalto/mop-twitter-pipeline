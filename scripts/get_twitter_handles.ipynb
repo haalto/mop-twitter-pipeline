{
 "cells": [
  {
   "cell_type": "code",
   "execution_count": 149,
   "id": "4ffa3256",
   "metadata": {},
   "outputs": [],
   "source": [
    "import pandas as pd\n",
    "import csv"
   ]
  },
  {
   "cell_type": "code",
   "execution_count": 150,
   "id": "095e67af",
   "metadata": {},
   "outputs": [],
   "source": [
    "data = pd.read_csv('edustajat.txt', header = None)"
   ]
  },
  {
   "cell_type": "code",
   "execution_count": 151,
   "id": "b600c218",
   "metadata": {},
   "outputs": [],
   "source": [
    "representatives = data[::2]"
   ]
  },
  {
   "cell_type": "code",
   "execution_count": 152,
   "id": "61db5df9",
   "metadata": {},
   "outputs": [],
   "source": [
    "parties = data[1::2]"
   ]
  },
  {
   "cell_type": "code",
   "execution_count": 153,
   "id": "c550daec",
   "metadata": {},
   "outputs": [],
   "source": [
    "rep_and_party = zip(representatives[0].tolist(), parties[0].tolist())"
   ]
  },
  {
   "cell_type": "code",
   "execution_count": 154,
   "id": "d6d63701",
   "metadata": {},
   "outputs": [],
   "source": [
    "with open (\"twitter_list_dump.txt\", \"r\") as f:\n",
    "    data_dump=f.readlines()"
   ]
  },
  {
   "cell_type": "code",
   "execution_count": 155,
   "id": "e86d29a9",
   "metadata": {},
   "outputs": [],
   "source": [
    "cleaned_list = list(map(lambda x: x.strip(), data_dump))"
   ]
  },
  {
   "cell_type": "code",
   "execution_count": 156,
   "id": "14b29ea1",
   "metadata": {},
   "outputs": [],
   "source": [
    "with open('transformed.csv','w') as out:\n",
    "    csv_out=csv.writer(out)\n",
    "    csv_out.writerow(['representative','party', \"twitter\"])\n",
    "    for x in rep_and_party:\n",
    "        handle = \"\"\n",
    "        try:\n",
    "            handle = cleaned_list[cleaned_list.index(x[0])+1]\n",
    "        except:\n",
    "            handle = \"FAILED TO PARSE\"\n",
    "        csv_out.writerow([x[0], x[1], handle])"
   ]
  }
 ],
 "metadata": {
  "kernelspec": {
   "display_name": "Python 3 (ipykernel)",
   "language": "python",
   "name": "python3"
  },
  "language_info": {
   "codemirror_mode": {
    "name": "ipython",
    "version": 3
   },
   "file_extension": ".py",
   "mimetype": "text/x-python",
   "name": "python",
   "nbconvert_exporter": "python",
   "pygments_lexer": "ipython3",
   "version": "3.8.10"
  }
 },
 "nbformat": 4,
 "nbformat_minor": 5
}
